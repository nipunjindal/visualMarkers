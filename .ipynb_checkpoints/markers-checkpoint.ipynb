{
 "cells": [
  {
   "cell_type": "code",
   "execution_count": 108,
   "metadata": {
    "collapsed": true
   },
   "outputs": [],
   "source": [
    "from __future__ import print_function, division\n",
    "import tensorflow as tf\n",
    "import numpy as np\n",
    "import os\n",
    "from tqdm import tqdm\n",
    "import matplotlib.pyplot as plt\n",
    "import matplotlib.gridspec as gridspec\n",
    "\n",
    "%matplotlib inline\n",
    "plt.rcParams['figure.figsize'] = (10.0, 8.0) # set default size of plots\n",
    "plt.rcParams['image.interpolation'] = 'nearest'\n",
    "plt.rcParams['image.cmap'] = 'gray'\n",
    "plt.rcParams['xtick.major.pad']='16'\n",
    "\n",
    "def count_params():\n",
    "    \"\"\"Count the number of parameters in the current TensorFlow graph \"\"\"\n",
    "    param_count = np.sum([np.prod(x.get_shape().as_list()) for x in tf.global_variables()])\n",
    "    return param_count\n",
    "\n",
    "\n",
    "def get_session():\n",
    "    config = tf.ConfigProto()\n",
    "    config.gpu_options.allow_growth = True\n",
    "    session = tf.Session(config=config)\n",
    "    return session"
   ]
  },
  {
   "cell_type": "code",
   "execution_count": 109,
   "metadata": {
    "collapsed": false
   },
   "outputs": [],
   "source": [
    "code_length = 10\n",
    "output_image = 32\n",
    "\n",
    "data = np.random.choice([-1, 1], size=(20000, 10))\n",
    "input_data = data[0:18000]\n",
    "val_data = data[-2000:]"
   ]
  },
  {
   "cell_type": "code",
   "execution_count": null,
   "metadata": {
    "collapsed": true
   },
   "outputs": [],
   "source": [
    "try:\n",
    "    reduce\n",
    "except NameError:\n",
    "    from functools import reduce\n",
    "\n",
    "tf.reset_default_graph()\n",
    "sess = get_session()"
   ]
  },
  {
   "cell_type": "code",
   "execution_count": null,
   "metadata": {
    "collapsed": true
   },
   "outputs": [],
   "source": [
    "# # preload vgg network\n",
    "\n",
    "# import vgg\n",
    "\n",
    "# STYLE_LAYERS = ('relu1_1', 'relu2_1', 'relu3_1', 'relu4_1', 'relu5_1')\n",
    "# style_images = [plt.imread(style) for style in ['style.jpg']]\n",
    "\n",
    "# style_shapes = [(1,) + style.shape for style in style_images]\n",
    "# style_features = [{} for _ in style_images]\n",
    "# style_weight = 5e2\n",
    "# vgg_weights, vgg_mean_pixel = vgg.load_net(\"../neural-style/imagenet-vgg-verydeep-19.mat\")\n",
    "\n",
    "# layer_weight = 1.0\n",
    "# style_layer_weight_exp = 1.0\n",
    "# style_layers_weights = {}\n",
    "# for style_layer in STYLE_LAYERS:\n",
    "#     style_layers_weights[style_layer] = layer_weight\n",
    "#     layer_weight *= style_layer_weight_exp\n",
    "    \n",
    "# # normalize style layer weights\n",
    "# layer_weights_sum = 0\n",
    "# for style_layer in STYLE_LAYERS:\n",
    "#     layer_weights_sum += style_layers_weights[style_layer]\n",
    "# for style_layer in STYLE_LAYERS:\n",
    "#     style_layers_weights[style_layer] /= layer_weights_sum\n",
    "    \n",
    "# for i in range(len(style_images)):\n",
    "#     g = tf.Graph()\n",
    "#     with g.as_default(), g.device('/gpu:0'), tf.Session() as sess:\n",
    "#         image = tf.placeholder('float', shape=style_shapes[i])\n",
    "#         net = vgg.net_preloaded(vgg_weights, image, 'max')\n",
    "#         print(image.shape)\n",
    "#         style_pre = np.array([vgg.preprocess(style_images[i], vgg_mean_pixel)])\n",
    "#         for layer in STYLE_LAYERS:\n",
    "#             print(net[layer].shape)\n",
    "#             features = net[layer].eval(feed_dict={image: style_pre})\n",
    "#             features = np.reshape(features, (-1, features.shape[3]))\n",
    "#             gram = np.matmul(features.T, features) / features.size\n",
    "#             style_features[i][layer] = gram\n",
    "\n"
   ]
  },
  {
   "cell_type": "code",
   "execution_count": 134,
   "metadata": {
    "collapsed": false
   },
   "outputs": [],
   "source": [
    "\n",
    "\n",
    "# synthesizer network\n",
    "input_ = tf.placeholder(tf.float32, [None, code_length])\n",
    "isTraining = tf.placeholder(tf.bool)\n",
    "\n",
    "dense_layer = tf.layers.dense(input_, output_image * output_image * 3, activation=tf.nn.relu, name='dense1')\n",
    "# bn_1 = tf.layers.batch_normalization(dense_layer, axis=1, training=isTraining)\n",
    "\n",
    "# dense_2 = tf.layers.dense(bn_1, 7 * 7 * 128, activation=tf.nn.relu)\n",
    "# bn_2 = tf.layers.batch_normalization(dense_2, axis=1, training=True)\n",
    "# bn_2 = tf.reshape(bn_2, (-1, 7, 7, 128))\n",
    "\n",
    "# # [N, 7, 7, 128] x [4, 4] = [N, 14, 14, 64]\n",
    "# tconv2d_1 = tf.layers.conv2d_transpose(bn_2, 64, 4, 2, padding=\"same\", activation=tf.nn.relu)\n",
    "# bn_3 = tf.layers.batch_normalization(tconv2d_1, axis=3, training=True)\n",
    "\n",
    "# # [N, 14, 14, 64] x [4, 4] = [N, 28, 28, 1]\n",
    "# dense_layer1 = tf.layers.conv2d_transpose(bn_3, 3, 6, 2, padding=\"valid\", activation=tf.sigmoid)\n",
    "dense_layer1 = tf.reshape(dense_layer, (-1, output_image, output_image, 3))\n",
    "tf.summary.image('marker', dense_layer1)\n",
    "\n",
    "#recognizer network\n",
    "conv1 = tf.layers.conv2d(dense_layer1, 96, [5, 5], padding='same', name='conv1') # [32, 32, 96]\n",
    "kernel_conv1 = tf.get_collection(tf.GraphKeys.GLOBAL_VARIABLES, 'conv1/kernel')[0]\n",
    "bias_conv1 = tf.get_collection(tf.GraphKeys.GLOBAL_VARIABLES, 'conv1/bias')[0]\n",
    "tf.summary.histogram('conv1/kernel', kernel_conv1)\n",
    "tf.summary.histogram('conv1/bias', bias_conv1)\n",
    "\n",
    "pool1 = tf.layers.max_pooling2d(conv1, [2, 2], 2, padding='valid') # [16, 16, 96]\n",
    "batch1 = tf.layers.batch_normalization(pool1, axis=3, training=isTraining)\n",
    "relu1 = tf.nn.relu(batch1) # [16, 16, 96]\n",
    "\n",
    "conv2 = tf.layers.conv2d(relu1, 96, [5, 5], padding='same', name='conv2') # [16, 16, 96]\n",
    "kernel_conv2 = tf.get_collection(tf.GraphKeys.GLOBAL_VARIABLES, 'conv2/kernel')[0]\n",
    "bias_conv2 = tf.get_collection(tf.GraphKeys.GLOBAL_VARIABLES, 'conv2/bias')[0]\n",
    "tf.summary.histogram('conv2/kernel', kernel_conv2)\n",
    "tf.summary.histogram('conv2/bias', bias_conv2)\n",
    "\n",
    "pool2 = tf.layers.max_pooling2d(conv2, [2, 2], 2, padding='valid') # [8, 8, 96]\n",
    "batch2 = tf.layers.batch_normalization(pool2, axis=3, training=isTraining)\n",
    "relu2 = tf.nn.relu(batch2) # [8, 8, 96]\n",
    "\n",
    "conv3 = tf.layers.conv2d(relu2, 96, [5, 5], padding='same', name='conv3') # [8, 8, 96]\n",
    "kernel_conv3 = tf.get_collection(tf.GraphKeys.GLOBAL_VARIABLES, 'conv3/kernel')[0]\n",
    "bias_conv3 = tf.get_collection(tf.GraphKeys.GLOBAL_VARIABLES, 'conv3/bias')[0]\n",
    "tf.summary.histogram('conv3/kernel', kernel_conv3)\n",
    "tf.summary.histogram('conv3/bias', bias_conv3)\n",
    "\n",
    "pool3 = tf.layers.max_pooling2d(conv3, [2, 2], 2, padding='valid') # [4, 4, 96]\n",
    "batch3 = tf.layers.batch_normalization(pool3, axis=3, training=isTraining)\n",
    "relu3 = tf.nn.relu(batch3) # [4, 4, 96]\n",
    "\n",
    "flat_relu3 = tf.reshape(relu3, (-1, 4 * 4 * 96))\n",
    "fc1 = tf.layers.dense(flat_relu3, 192)\n",
    "fc2 = tf.layers.dense(fc1, code_length)\n",
    "\n",
    "# loss function is element wise sigmoid\n",
    "# mean_loss = tf.losses.mean_squared_error(input_, fc2)\n",
    "# sigmoid_loss = tf.losses.sigmoid_cross_entropy(tf.cast(input_, tf.int32), fc2)\n",
    "mean_loss = tf.losses.mean_squared_error(input_, fc2)\n",
    "# sigmoid_loss = -tf.multiply(tf.reduce_mean(tf.sigmoid(tf.multiply(input_, fc2))), tf.constant(1.))\n",
    "\n",
    "# # style loss\n",
    "# net = vgg.net_preloaded(vgg_weights, dense_layer1, 'max')\n",
    "\n",
    "# # style loss\n",
    "# style_loss = 0\n",
    "# style_blend_weights = [1.0/len(style_images) for _ in style_images]\n",
    "# for i in range(len(style_images)):\n",
    "#     style_losses = []\n",
    "#     for style_layer in STYLE_LAYERS:\n",
    "#         layer = net[style_layer]\n",
    "#         _, height, width, number = map(lambda i: i.value, layer.get_shape())\n",
    "#         size = height * width * number\n",
    "#         feats = tf.reshape(layer, (-1, number))\n",
    "#         gram = tf.matmul(tf.transpose(feats), feats) / size\n",
    "#         style_gram = style_features[i][style_layer]\n",
    "#         style_losses.append(style_layers_weights[style_layer] * 2 * tf.nn.l2_loss(gram - style_gram) / style_gram.size)\n",
    "#     style_loss += style_weight * style_blend_weights[i] * reduce(tf.add, style_losses)\n",
    "    \n",
    "loss = mean_loss #+ style_loss\n",
    "tf.summary.scalar('mean_loss', mean_loss)\n",
    "tf.summary.scalar('style_loss', style_loss)\n",
    "optimizer = tf.train.AdamOptimizer(learning_rate=0.05)\n",
    "\n",
    "merged = tf.summary.merge_all()\n",
    "writer = tf.summary.FileWriter('./train', sess.graph)\n",
    "# batch normalization in tensorflow requires this extra dependency\n",
    "extra_update_ops = tf.get_collection(tf.GraphKeys.UPDATE_OPS)\n",
    "with tf.control_dependencies(extra_update_ops):\n",
    "    train = optimizer.minimize(loss)\n",
    "\n",
    "\n",
    "sess.run(tf.global_variables_initializer())"
   ]
  },
  {
   "cell_type": "code",
   "execution_count": null,
   "metadata": {
    "collapsed": false
   },
   "outputs": [],
   "source": [
    "#missing Trainable batch norm thingy\n",
    "for i in tqdm(range(200 * 90)):\n",
    "    batch_ = np.random.randint(9000, size=200)\n",
    "    x = sess.run([train, loss, merged], feed_dict={input_ : input_data[batch_, :], isTraining : True})\n",
    "    if i % 50 == 0:\n",
    "        writer.add_summary(x[2], i)\n",
    "\n",
    "    if i % 1000 == 0:\n",
    "        x = sess.run([loss], feed_dict={input_ : val_data, isTraining : False})\n",
    "        print('loss: ', x[0])\n",
    "        check_data = np.random.choice([-1, 1], size=(1, 10))\n",
    "        print(check_data[0])\n",
    "        image_output = sess.run([dense_layer1], feed_dict={input_ : check_data, isTraining : False})\n",
    "        image_output1 = np.reshape(image_output[0], (output_image, output_image, 3))\n",
    "        plt.figure(figsize=(4, 4))\n",
    "        plt.imshow(image_output1)\n",
    "\n",
    "        plt.show(image_output)\n",
    "\n"
   ]
  },
  {
   "cell_type": "code",
   "execution_count": 97,
   "metadata": {
    "collapsed": false
   },
   "outputs": [
    {
     "name": "stdout",
     "output_type": "stream",
     "text": [
      "[[0 1 1 0 0 0 0 0 1 1]]\n",
      "[array([[-118.97418213,  166.2620697 , -199.56474304,   99.9135437 ,\n",
      "        -173.73446655, -155.83686829,  378.86581421,  118.67234039,\n",
      "        -252.97796631,    5.03851938]], dtype=float32)]\n"
     ]
    },
    {
     "data": {
      "image/png": "[encoded data removed]",
      "text/plain": [
       "<matplotlib.figure.Figure at 0x7f45f22d65f8>"
      ]
     },
     "metadata": {},
     "output_type": "display_data"
    }
   ],
   "source": [
    "check_data = np.random.randint(2, size=(1, 10,))\n",
    "print(check_data)\n",
    "image_output = sess.run([dense_layer], feed_dict={input_ : check_data, isTraining : False})\n",
    "# print(image_output)\n",
    "image_output1 = np.reshape(image_output[0], (output_image, output_image, 3))\n",
    "plt.imshow(image_output1)\n",
    "\n",
    "print(sess.run([fc2], feed_dict={input_ : check_data, isTraining: False}))"
   ]
  },
  {
   "cell_type": "code",
   "execution_count": 137,
   "metadata": {
    "collapsed": false
   },
   "outputs": [
    {
     "data": {
      "text/plain": [
       "array([-1.,  1.,  1., -1.,  0.])"
      ]
     },
     "execution_count": 137,
     "metadata": {},
     "output_type": "execute_result"
    }
   ],
   "source": [
    "check = np.array([-132, 14, 14.1234, -341.13, 0])\n",
    "np.sign(check)"
   ]
  }
 ],
 "metadata": {
  "kernelspec": {
   "display_name": "Python 3",
   "language": "python",
   "name": "python3"
  },
  "language_info": {
   "codemirror_mode": {
    "name": "ipython",
    "version": 3
   },
   "file_extension": ".py",
   "mimetype": "text/x-python",
   "name": "python",
   "nbconvert_exporter": "python",
   "pygments_lexer": "ipython3",
   "version": "3.5.2"
  }
 },
 "nbformat": 4,
 "nbformat_minor": 0
}
